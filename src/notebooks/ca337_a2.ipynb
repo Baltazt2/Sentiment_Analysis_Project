{
 "cells": [
  {
   "cell_type": "code",
   "execution_count": 28,
   "id": "67365fa3",
   "metadata": {},
   "outputs": [
    {
     "name": "stdout",
     "output_type": "stream",
     "text": [
      "Requirement already satisfied: sklearn in c:\\users\\thoma\\appdata\\local\\packages\\pythonsoftwarefoundation.python.3.10_qbz5n2kfra8p0\\localcache\\local-packages\\python310\\site-packages (0.0)\n",
      "Requirement already satisfied: scikit-learn in c:\\users\\thoma\\appdata\\local\\packages\\pythonsoftwarefoundation.python.3.10_qbz5n2kfra8p0\\localcache\\local-packages\\python310\\site-packages (from sklearn) (1.1.2)\n",
      "Requirement already satisfied: scipy>=1.3.2 in c:\\users\\thoma\\appdata\\local\\packages\\pythonsoftwarefoundation.python.3.10_qbz5n2kfra8p0\\localcache\\local-packages\\python310\\site-packages (from scikit-learn->sklearn) (1.9.1)\n",
      "Requirement already satisfied: numpy>=1.17.3 in c:\\users\\thoma\\appdata\\local\\packages\\pythonsoftwarefoundation.python.3.10_qbz5n2kfra8p0\\localcache\\local-packages\\python310\\site-packages (from scikit-learn->sklearn) (1.23.3)\n",
      "Requirement already satisfied: threadpoolctl>=2.0.0 in c:\\users\\thoma\\appdata\\local\\packages\\pythonsoftwarefoundation.python.3.10_qbz5n2kfra8p0\\localcache\\local-packages\\python310\\site-packages (from scikit-learn->sklearn) (3.1.0)\n",
      "Requirement already satisfied: joblib>=1.0.0 in c:\\users\\thoma\\appdata\\local\\packages\\pythonsoftwarefoundation.python.3.10_qbz5n2kfra8p0\\localcache\\local-packages\\python310\\site-packages (from scikit-learn->sklearn) (1.2.0)\n",
      "Note: you may need to restart the kernel to use updated packages.\n"
     ]
    }
   ],
   "source": [
    " pip install sklearn"
   ]
  },
  {
   "cell_type": "code",
   "execution_count": 29,
   "id": "b75e43db",
   "metadata": {},
   "outputs": [
    {
     "name": "stdout",
     "output_type": "stream",
     "text": [
      "Requirement already satisfied: datasets in c:\\users\\thoma\\appdata\\local\\packages\\pythonsoftwarefoundation.python.3.10_qbz5n2kfra8p0\\localcache\\local-packages\\python310\\site-packages (2.5.1)\n",
      "Requirement already satisfied: numpy>=1.17 in c:\\users\\thoma\\appdata\\local\\packages\\pythonsoftwarefoundation.python.3.10_qbz5n2kfra8p0\\localcache\\local-packages\\python310\\site-packages (from datasets) (1.23.3)\n",
      "Requirement already satisfied: requests>=2.19.0 in c:\\users\\thoma\\appdata\\local\\packages\\pythonsoftwarefoundation.python.3.10_qbz5n2kfra8p0\\localcache\\local-packages\\python310\\site-packages (from datasets) (2.28.1)\n",
      "Requirement already satisfied: responses<0.19 in c:\\users\\thoma\\appdata\\local\\packages\\pythonsoftwarefoundation.python.3.10_qbz5n2kfra8p0\\localcache\\local-packages\\python310\\site-packages (from datasets) (0.18.0)\n",
      "Requirement already satisfied: fsspec[http]>=2021.11.1 in c:\\users\\thoma\\appdata\\local\\packages\\pythonsoftwarefoundation.python.3.10_qbz5n2kfra8p0\\localcache\\local-packages\\python310\\site-packages (from datasets) (2022.8.2)\n",
      "Requirement already satisfied: multiprocess in c:\\users\\thoma\\appdata\\local\\packages\\pythonsoftwarefoundation.python.3.10_qbz5n2kfra8p0\\localcache\\local-packages\\python310\\site-packages (from datasets) (0.70.13)\n",
      "Requirement already satisfied: huggingface-hub<1.0.0,>=0.1.0 in c:\\users\\thoma\\appdata\\local\\packages\\pythonsoftwarefoundation.python.3.10_qbz5n2kfra8p0\\localcache\\local-packages\\python310\\site-packages (from datasets) (0.9.1)\n",
      "Requirement already satisfied: dill<0.3.6 in c:\\users\\thoma\\appdata\\local\\packages\\pythonsoftwarefoundation.python.3.10_qbz5n2kfra8p0\\localcache\\local-packages\\python310\\site-packages (from datasets) (0.3.5.1)\n",
      "Requirement already satisfied: xxhash in c:\\users\\thoma\\appdata\\local\\packages\\pythonsoftwarefoundation.python.3.10_qbz5n2kfra8p0\\localcache\\local-packages\\python310\\site-packages (from datasets) (3.0.0)\n",
      "Requirement already satisfied: pyarrow>=6.0.0 in c:\\users\\thoma\\appdata\\local\\packages\\pythonsoftwarefoundation.python.3.10_qbz5n2kfra8p0\\localcache\\local-packages\\python310\\site-packages (from datasets) (9.0.0)\n",
      "Requirement already satisfied: pandas in c:\\users\\thoma\\appdata\\local\\packages\\pythonsoftwarefoundation.python.3.10_qbz5n2kfra8p0\\localcache\\local-packages\\python310\\site-packages (from datasets) (1.5.0)\n",
      "Requirement already satisfied: tqdm>=4.62.1 in c:\\users\\thoma\\appdata\\local\\packages\\pythonsoftwarefoundation.python.3.10_qbz5n2kfra8p0\\localcache\\local-packages\\python310\\site-packages (from datasets) (4.64.1)\n",
      "Requirement already satisfied: aiohttp in c:\\users\\thoma\\appdata\\local\\packages\\pythonsoftwarefoundation.python.3.10_qbz5n2kfra8p0\\localcache\\local-packages\\python310\\site-packages (from datasets) (3.8.3)\n",
      "Requirement already satisfied: packaging in c:\\users\\thoma\\appdata\\local\\packages\\pythonsoftwarefoundation.python.3.10_qbz5n2kfra8p0\\localcache\\local-packages\\python310\\site-packages (from datasets) (21.3)\n",
      "Requirement already satisfied: attrs>=17.3.0 in c:\\users\\thoma\\appdata\\local\\packages\\pythonsoftwarefoundation.python.3.10_qbz5n2kfra8p0\\localcache\\local-packages\\python310\\site-packages (from aiohttp->datasets) (22.1.0)\n",
      "Requirement already satisfied: async-timeout<5.0,>=4.0.0a3 in c:\\users\\thoma\\appdata\\local\\packages\\pythonsoftwarefoundation.python.3.10_qbz5n2kfra8p0\\localcache\\local-packages\\python310\\site-packages (from aiohttp->datasets) (4.0.2)\n",
      "Requirement already satisfied: aiosignal>=1.1.2 in c:\\users\\thoma\\appdata\\local\\packages\\pythonsoftwarefoundation.python.3.10_qbz5n2kfra8p0\\localcache\\local-packages\\python310\\site-packages (from aiohttp->datasets) (1.2.0)\n",
      "Requirement already satisfied: yarl<2.0,>=1.0 in c:\\users\\thoma\\appdata\\local\\packages\\pythonsoftwarefoundation.python.3.10_qbz5n2kfra8p0\\localcache\\local-packages\\python310\\site-packages (from aiohttp->datasets) (1.8.1)\n",
      "Requirement already satisfied: frozenlist>=1.1.1 in c:\\users\\thoma\\appdata\\local\\packages\\pythonsoftwarefoundation.python.3.10_qbz5n2kfra8p0\\localcache\\local-packages\\python310\\site-packages (from aiohttp->datasets) (1.3.1)\n",
      "Requirement already satisfied: multidict<7.0,>=4.5 in c:\\users\\thoma\\appdata\\local\\packages\\pythonsoftwarefoundation.python.3.10_qbz5n2kfra8p0\\localcache\\local-packages\\python310\\site-packages (from aiohttp->datasets) (6.0.2)\n",
      "Requirement already satisfied: charset-normalizer<3.0,>=2.0 in c:\\users\\thoma\\appdata\\local\\packages\\pythonsoftwarefoundation.python.3.10_qbz5n2kfra8p0\\localcache\\local-packages\\python310\\site-packages (from aiohttp->datasets) (2.1.1)\n",
      "Requirement already satisfied: typing-extensions>=3.7.4.3 in c:\\users\\thoma\\appdata\\local\\packages\\pythonsoftwarefoundation.python.3.10_qbz5n2kfra8p0\\localcache\\local-packages\\python310\\site-packages (from huggingface-hub<1.0.0,>=0.1.0->datasets) (4.3.0)\n",
      "Requirement already satisfied: filelock in c:\\users\\thoma\\appdata\\local\\packages\\pythonsoftwarefoundation.python.3.10_qbz5n2kfra8p0\\localcache\\local-packages\\python310\\site-packages (from huggingface-hub<1.0.0,>=0.1.0->datasets) (3.8.0)\n",
      "Requirement already satisfied: pyyaml>=5.1 in c:\\users\\thoma\\appdata\\local\\packages\\pythonsoftwarefoundation.python.3.10_qbz5n2kfra8p0\\localcache\\local-packages\\python310\\site-packages (from huggingface-hub<1.0.0,>=0.1.0->datasets) (6.0)\n",
      "Requirement already satisfied: pyparsing!=3.0.5,>=2.0.2 in c:\\users\\thoma\\appdata\\local\\packages\\pythonsoftwarefoundation.python.3.10_qbz5n2kfra8p0\\localcache\\local-packages\\python310\\site-packages (from packaging->datasets) (3.0.9)\n",
      "Requirement already satisfied: idna<4,>=2.5 in c:\\users\\thoma\\appdata\\local\\packages\\pythonsoftwarefoundation.python.3.10_qbz5n2kfra8p0\\localcache\\local-packages\\python310\\site-packages (from requests>=2.19.0->datasets) (3.4)\n",
      "Requirement already satisfied: urllib3<1.27,>=1.21.1 in c:\\users\\thoma\\appdata\\local\\packages\\pythonsoftwarefoundation.python.3.10_qbz5n2kfra8p0\\localcache\\local-packages\\python310\\site-packages (from requests>=2.19.0->datasets) (1.26.12)\n",
      "Requirement already satisfied: certifi>=2017.4.17 in c:\\users\\thoma\\appdata\\local\\packages\\pythonsoftwarefoundation.python.3.10_qbz5n2kfra8p0\\localcache\\local-packages\\python310\\site-packages (from requests>=2.19.0->datasets) (2022.9.24)\n",
      "Requirement already satisfied: colorama in c:\\users\\thoma\\appdata\\local\\packages\\pythonsoftwarefoundation.python.3.10_qbz5n2kfra8p0\\localcache\\local-packages\\python310\\site-packages (from tqdm>=4.62.1->datasets) (0.4.5)\n",
      "Requirement already satisfied: pytz>=2020.1 in c:\\users\\thoma\\appdata\\local\\packages\\pythonsoftwarefoundation.python.3.10_qbz5n2kfra8p0\\localcache\\local-packages\\python310\\site-packages (from pandas->datasets) (2022.2.1)\n",
      "Requirement already satisfied: python-dateutil>=2.8.1 in c:\\users\\thoma\\appdata\\local\\packages\\pythonsoftwarefoundation.python.3.10_qbz5n2kfra8p0\\localcache\\local-packages\\python310\\site-packages (from pandas->datasets) (2.8.2)\n",
      "Requirement already satisfied: six>=1.5 in c:\\users\\thoma\\appdata\\local\\packages\\pythonsoftwarefoundation.python.3.10_qbz5n2kfra8p0\\localcache\\local-packages\\python310\\site-packages (from python-dateutil>=2.8.1->pandas->datasets) (1.16.0)\n",
      "Note: you may need to restart the kernel to use updated packages.\n"
     ]
    }
   ],
   "source": [
    "pip install datasets"
   ]
  },
  {
   "cell_type": "code",
   "execution_count": 30,
   "id": "e1e27a04",
   "metadata": {
    "scrolled": true
   },
   "outputs": [
    {
     "name": "stderr",
     "output_type": "stream",
     "text": [
      "Found cached dataset imdb (C:/Users/thoma/.cache/huggingface/datasets/imdb/plain_text/1.0.0/2fdd8b9bcadd6e7055e742a706876ba43f19faee861df134affd7a3f60fc38a1)\n"
     ]
    },
    {
     "data": {
      "application/vnd.jupyter.widget-view+json": {
       "model_id": "c5c5b5bc1b564d6899b65b0a1fd34bed",
       "version_major": 2,
       "version_minor": 0
      },
      "text/plain": [
       "  0%|          | 0/3 [00:00<?, ?it/s]"
      ]
     },
     "metadata": {},
     "output_type": "display_data"
    },
    {
     "name": "stdout",
     "output_type": "stream",
     "text": [
      "{'text': 'The story centers around Barry McKenzie who must go to England if he wishes to claim his inheritance. Being about the grossest Aussie shearer ever to set foot outside this great Nation of ours there is something of a culture clash and much fun and games ensue. The songs of Barry McKenzie(Barry Crocker) are highlights.', 'label': 1}\n"
     ]
    }
   ],
   "source": [
    "from datasets import load_dataset\n",
    "\n",
    "imdb_dataset = load_dataset(\"imdb\")['train']\n",
    "print(imdb_dataset[-1])"
   ]
  },
  {
   "cell_type": "code",
   "execution_count": 31,
   "id": "117675b3",
   "metadata": {},
   "outputs": [
    {
     "name": "stdout",
     "output_type": "stream",
     "text": [
      "The story centers around Barry McKenzie who must go to England if he wishes to claim his inheritance. Being about the grossest Aussie shearer ever to set foot outside this great Nation of ours there is something of a culture clash and much fun and games ensue. The songs of Barry McKenzie(Barry Crocker) are highlights.\n",
      "1\n"
     ]
    }
   ],
   "source": [
    "train_data = []\n",
    "train_data_labels = []\n",
    "for item in imdb_dataset:\n",
    "  train_data.append(item['text'])\n",
    "  train_data_labels.append(item['label'])\n",
    "print(train_data[-1])\n",
    "print(train_data_labels[-1])"
   ]
  },
  {
   "cell_type": "code",
   "execution_count": 32,
   "id": "ee1c507c",
   "metadata": {},
   "outputs": [],
   "source": [
    "from sklearn.feature_extraction.text import CountVectorizer\n",
    "vectorizer = CountVectorizer(analyzer='word',max_features=5000,lowercase=True)\n",
    "features = vectorizer.fit_transform(train_data).toarray()"
   ]
  },
  {
   "cell_type": "code",
   "execution_count": 89,
   "id": "3b73aa3a",
   "metadata": {
    "scrolled": true
   },
   "outputs": [
    {
     "name": "stdout",
     "output_type": "stream",
     "text": [
      "(25000, 5000)\n",
      "['00' '000' '10' ... 'zombie' 'zombies' 'zone']\n",
      "[[0 0 0 ... 0 0 0]\n",
      " [0 0 0 ... 0 0 0]\n",
      " [0 0 0 ... 0 0 0]\n",
      " ...\n",
      " [0 0 0 ... 0 0 0]\n",
      " [0 0 0 ... 0 0 0]\n",
      " [0 0 0 ... 0 0 0]]\n"
     ]
    }
   ],
   "source": [
    "print(features.shape)\n",
    "print(vectorizer.get_feature_names_out())\n",
    "#print(vectorizer)\n",
    "#print(features)"
   ]
  },
  {
   "cell_type": "code",
   "execution_count": 33,
   "id": "04916931",
   "metadata": {},
   "outputs": [],
   "source": [
    "from sklearn.model_selection import train_test_split\n",
    "X_train, X_val, y_train, y_val = train_test_split(features,train_data_labels,train_size=0.75,random_state=100)"
   ]
  },
  {
   "cell_type": "code",
   "execution_count": 34,
   "id": "0e85bfd4",
   "metadata": {},
   "outputs": [],
   "source": [
    "from sklearn.naive_bayes import MultinomialNB\n",
    "from sklearn.tree import DecisionTreeClassifier\n",
    "model = MultinomialNB(alpha = 0.5, class_prior=[0.60,0.40])\n",
    "model2 = DecisionTreeClassifier() # Part second model added"
   ]
  },
  {
   "cell_type": "code",
   "execution_count": 35,
   "id": "5a9eb92d",
   "metadata": {},
   "outputs": [],
   "source": [
    "model = model.fit(X=X_train,y=y_train)\n",
    "model2 = model2.fit(X=X_train,y=y_train)"
   ]
  },
  {
   "cell_type": "code",
   "execution_count": 36,
   "id": "838fc139",
   "metadata": {},
   "outputs": [],
   "source": [
    "y_pred = model.predict(X_val)\n",
    "y_pred2 = model2.predict(X_val)"
   ]
  },
  {
   "cell_type": "code",
   "execution_count": 37,
   "id": "8d58fb7b",
   "metadata": {},
   "outputs": [
    {
     "name": "stdout",
     "output_type": "stream",
     "text": [
      "0.8384\n",
      "0.6944\n"
     ]
    }
   ],
   "source": [
    "from sklearn.metrics import accuracy_score\n",
    "print(accuracy_score(y_val,y_pred))\n",
    "print(accuracy_score(y_val,y_pred2))# the same accuracy here(not same anymore)"
   ]
  },
  {
   "cell_type": "code",
   "execution_count": 38,
   "id": "1f2d8ec2",
   "metadata": {},
   "outputs": [
    {
     "name": "stdout",
     "output_type": "stream",
     "text": [
      "0.75\n",
      "0.65\n"
     ]
    }
   ],
   "source": [
    "#Part 4\n",
    "test_data = ['The truly epic blockbuster we needed.', 'If theres any movie that deserves to be seen in the theaters with big screens and booming speakers. Its :Top Gun Maverick.One of my best experiences in years!','Best Sequel yet', \"Not bad, but wayy overrated.\", \"Terrible plot and script, boring and pointless\", \"Didnt make much sense\", \"Very uninteresting\", \"What A Mess! I Want My 2 Hours Back!\", \"I could have actually cried watching this. Dr. Strange is one of my favourite Marvel movies but this was just plain awful. 1 hour in and I was debating leaving. Marvel are losing their touch, and ever since Endgame, it just hasn't felt the same, apart from NWH. Sam Raimi messed up big time.\", \"I'm unsure of why this has received a high IMDb rating. It's rubbish and slow and nonsensical. Instead this film rakes in all past cast members for some obscure reminiscent feelgood film. Trash at its Hollywood best. You've been warned.\", \"Don't watch the trailers. Just watch the movie. I'm not going to say much. It's amazing. And I'm in complete disbelief that it actually happened. Well-made, well-acted, well-directed. Fun, funny and crazy with a ton of heart. Can't wait to watch it again.\", \"Best Movie Of The Year\", \"They did it! A Spider-Man trilogy finally stuck the landing! Spider-Man: No Way Home is an impressive culmination of the films that came before it, with an engaging storyline, exciting action, laugh out loud moments, and dramatic consequences. The beginning climb is a little slow, but it's an exhilarating ride once things get swinging. I don't exactly know how this movie will hold up after multiple viewings, as there are some plot points that don't quite make sense when you start to think about them, but I thoroughly enjoyed myself this first time.\", \"I'm unsure of why this has received a high IMDb rating. It's rubbish and slow and nonsensical. Instead this film rakes in all past cast members for some obscure reminiscent feelgood film. Trash at its Hollywood best. You've been warned.\", \"This film is an emotional rollercoaster with some of the coolest superhero plot lines ever drawn up. It's straight up the most epic Marvel film that will probably ever be created. I don't see how Marvel could ever top this, but getting to see these characters all together at least one last time was a reward all on its own.\", \"Thee same movie over and over, that´s the MCU. The same repetitive jokes and villain, only with a different cape ... The story is boring and tries a lot to be something it is not!!!!\", \"Oh dear. I can't believe how diisapointed I am. So dissapointed. I wanted to cry.\", \"Detective Batman at its peak! Great storyline. Just as dark a universe as we've come to expect from DC. The gloomy, gritty, dark tone of this film is exactly what I wanted. When you think the movie is over, there's more. Beautiful cinematography. Great score.\", \"Everything I wanted and more\", \"Matt Reeves The Batman is a hell of a movie, it is the darkest live action Batman movie ever made, and the longest one too, The Batman fills with a top notch action sequence that not only exciting, but it's cinematic too, the cinematography was just incredible, Michael Giacchino The Batman theme song has just become one of my favorite movie theme song ever, it's enduringly great, the action is perfect itself without the theme but they making it even more perfect with the theme in the background especially when Batman shows up, it really making me hyped more because of that, Colin Farrell transformation is as amazing as his performance as The Penguin, Paul Dano performance is giving me a Heath Ledger Joker vibes but not trying to be Heath Ledger Joker which is still great, Paul Dano The Riddler is still a terrifying and a very disturbing villain, Zoe Kravits performances as Catwoman was amazing though she is not as wild as Michelle Pfeiffer in Batman Returns but boy did her gesture and look is as wild as Michelle Pfeiffer, and the Catwoman fighting sequence is definitely a win for Zoe and i did still like her a lot in here, and in the end we got The Batman himself, Robert Pattinson, all i can say about him as The Batman is that i hope everybody is starting to know him as the guy who play The Batman which is a really good movie and not the guy who play in the horrible Twilight film anymore because he is indeed an awesome Batman, now he was become my second favorite Batman next to Christian Bale in number one still, the story of The Batman itself is great, and my only problem with the movie is that there is quite a lot of particular scene that for me are just very slow or too slow, it's not boring but i feel like they can make it a little bit faster, if it's only one or two or three scene i probably still can forgive it but unfortunately it happens more than that, but at in the end The Batman is still a hell of a great movie, it's still amazing and it's still incredible, i was impress by most of the thing that happens, i was excited, i was hyped, i was stunt by all the amazing thing that they've done, The Batman is fire!!!.\"]\n",
    "test_data_labels = [1, 1, 1, 0, 0, 0, 0, 0, 0, 0, 1, 1, 1, 0, 1, 0, 0, 1, 1, 1]\n",
    "\n",
    "test_pred=model.predict(vectorizer.transform(test_data).toarray())\n",
    "print(accuracy_score(test_pred,test_data_labels))\n",
    "test_pred=model2.predict(vectorizer.transform(test_data).toarray())\n",
    "print(accuracy_score(test_pred,test_data_labels))"
   ]
  },
  {
   "cell_type": "code",
   "execution_count": 14,
   "id": "f85891ff",
   "metadata": {},
   "outputs": [],
   "source": [
    "#Part 3\n",
    "#accuracy increased from 0.70368 to 0.8384.\n",
    "#The maxium number of features in the countvectorizer command was increased to 5000 this was done as the more words\n",
    "# that are analised the more inforation we have to work with making the model more accurate.\n",
    "#Also I changed some of the parameters in the MultinomialNH function. I tred changing the value of the laplace and noticed when I decreased it to 0.5 that was the sweet spot for th most accuracy\n",
    "#Also I tried adding prior probailities in the MultinomialNB function where I assumed the probability of a review being positive or negative was not equal. Changing this to 0.6 and 0.4 also increased the accuracy."
   ]
  },
  {
   "cell_type": "code",
   "execution_count": 15,
   "id": "17eea85a",
   "metadata": {},
   "outputs": [],
   "source": [
    "#Part 1 explaination \n",
    "#Used confusion_matrix() function with the y_val and y_pred which was used to calculate the accuracy to print out the confusion matrix\n",
    "#I calculated the true postive rate by dividing all the correcly predicted postives by the true positives and false negatives\n",
    "#I calculated the true negative rate by divide the true negatives by the true negatives plus false postives\n"
   ]
  },
  {
   "cell_type": "code",
   "execution_count": 39,
   "id": "1e45e8e0",
   "metadata": {},
   "outputs": [
    {
     "name": "stdout",
     "output_type": "stream",
     "text": [
      "[[2726  408]\n",
      " [ 602 2514]]\n",
      "0.806803594351733\n",
      "0.8698149329929802\n"
     ]
    }
   ],
   "source": [
    "#Assignment 2-Part 1\n",
    "from sklearn.metrics import confusion_matrix\n",
    "conf_mat = confusion_matrix(y_val,y_pred)\n",
    "print(conf_mat)\n",
    "#----------------------------------------------------------\n",
    "TP = conf_mat[1, 1]\n",
    "#print(TP)\n",
    "TN = conf_mat[0, 0]\n",
    "#print(TN)\n",
    "FN = conf_mat[1, 0]\n",
    "#print(FN)\n",
    "FP = conf_mat[0, 1]\n",
    "#print(FP)\n",
    "TPR = TP/(TP+FN)\n",
    "print(TPR)\n",
    "TNR = TN/(TN+FP) \n",
    "print(TNR)\n"
   ]
  },
  {
   "cell_type": "code",
   "execution_count": 40,
   "id": "23e3d849",
   "metadata": {},
   "outputs": [
    {
     "name": "stdout",
     "output_type": "stream",
     "text": [
      "0.75\n",
      "0.65\n",
      "[[10  5]\n",
      " [ 0  5]]\n",
      "[[4 1]\n",
      " [6 9]]\n",
      "[ True False  True  True  True  True  True  True  True  True  True False\n",
      " False  True  True  True  True False  True False]\n",
      "[ True  True  True False False  True  True False False  True  True  True\n",
      " False  True  True  True  True  True  True  True]\n",
      "The truly epic blockbuster we needed.\n",
      "Best Sequel yet\n",
      "Didnt make much sense\n",
      "Very uninteresting\n",
      "I'm unsure of why this has received a high IMDb rating. It's rubbish and slow and nonsensical. Instead this film rakes in all past cast members for some obscure reminiscent feelgood film. Trash at its Hollywood best. You've been warned.\n",
      "Don't watch the trailers. Just watch the movie. I'm not going to say much. It's amazing. And I'm in complete disbelief that it actually happened. Well-made, well-acted, well-directed. Fun, funny and crazy with a ton of heart. Can't wait to watch it again.\n",
      "I'm unsure of why this has received a high IMDb rating. It's rubbish and slow and nonsensical. Instead this film rakes in all past cast members for some obscure reminiscent feelgood film. Trash at its Hollywood best. You've been warned.\n",
      "This film is an emotional rollercoaster with some of the coolest superhero plot lines ever drawn up. It's straight up the most epic Marvel film that will probably ever be created. I don't see how Marvel could ever top this, but getting to see these characters all together at least one last time was a reward all on its own.\n",
      "Oh dear. I can't believe how diisapointed I am. So dissapointed. I wanted to cry.\n",
      "Everything I wanted and more\n",
      "They did it! A Spider-Man trilogy finally stuck the landing! Spider-Man: No Way Home is an impressive culmination of the films that came before it, with an engaging storyline, exciting action, laugh out loud moments, and dramatic consequences. The beginning climb is a little slow, but it's an exhilarating ride once things get swinging. I don't exactly know how this movie will hold up after multiple viewings, as there are some plot points that don't quite make sense when you start to think about them, but I thoroughly enjoyed myself this first time.\n",
      "Not bad, but wayy overrated.\n",
      "Terrible plot and script, boring and pointless\n",
      "What A Mess! I Want My 2 Hours Back!\n",
      "I could have actually cried watching this. Dr. Strange is one of my favourite Marvel movies but this was just plain awful. 1 hour in and I was debating leaving. Marvel are losing their touch, and ever since Endgame, it just hasn't felt the same, apart from NWH. Sam Raimi messed up big time.\n",
      "Thee same movie over and over, that´s the MCU. The same repetitive jokes and villain, only with a different cape ... The story is boring and tries a lot to be something it is not!!!!\n",
      "If theres any movie that deserves to be seen in the theaters with big screens and booming speakers. Its :Top Gun Maverick.One of my best experiences in years!\n",
      "Best Movie Of The Year\n",
      "Detective Batman at its peak! Great storyline. Just as dark a universe as we've come to expect from DC. The gloomy, gritty, dark tone of this film is exactly what I wanted. When you think the movie is over, there's more. Beautiful cinematography. Great score.\n",
      "Matt Reeves The Batman is a hell of a movie, it is the darkest live action Batman movie ever made, and the longest one too, The Batman fills with a top notch action sequence that not only exciting, but it's cinematic too, the cinematography was just incredible, Michael Giacchino The Batman theme song has just become one of my favorite movie theme song ever, it's enduringly great, the action is perfect itself without the theme but they making it even more perfect with the theme in the background especially when Batman shows up, it really making me hyped more because of that, Colin Farrell transformation is as amazing as his performance as The Penguin, Paul Dano performance is giving me a Heath Ledger Joker vibes but not trying to be Heath Ledger Joker which is still great, Paul Dano The Riddler is still a terrifying and a very disturbing villain, Zoe Kravits performances as Catwoman was amazing though she is not as wild as Michelle Pfeiffer in Batman Returns but boy did her gesture and look is as wild as Michelle Pfeiffer, and the Catwoman fighting sequence is definitely a win for Zoe and i did still like her a lot in here, and in the end we got The Batman himself, Robert Pattinson, all i can say about him as The Batman is that i hope everybody is starting to know him as the guy who play The Batman which is a really good movie and not the guy who play in the horrible Twilight film anymore because he is indeed an awesome Batman, now he was become my second favorite Batman next to Christian Bale in number one still, the story of The Batman itself is great, and my only problem with the movie is that there is quite a lot of particular scene that for me are just very slow or too slow, it's not boring but i feel like they can make it a little bit faster, if it's only one or two or three scene i probably still can forgive it but unfortunately it happens more than that, but at in the end The Batman is still a hell of a great movie, it's still amazing and it's still incredible, i was impress by most of the thing that happens, i was excited, i was hyped, i was stunt by all the amazing thing that they've done, The Batman is fire!!!.\n"
     ]
    }
   ],
   "source": [
    "#Assignment 2-Part 2\n",
    "\n",
    "test_data = ['The truly epic blockbuster we needed.', 'If theres any movie that deserves to be seen in the theaters with big screens and booming speakers. Its :Top Gun Maverick.One of my best experiences in years!','Best Sequel yet', \"Not bad, but wayy overrated.\", \"Terrible plot and script, boring and pointless\", \"Didnt make much sense\", \"Very uninteresting\", \"What A Mess! I Want My 2 Hours Back!\", \"I could have actually cried watching this. Dr. Strange is one of my favourite Marvel movies but this was just plain awful. 1 hour in and I was debating leaving. Marvel are losing their touch, and ever since Endgame, it just hasn't felt the same, apart from NWH. Sam Raimi messed up big time.\", \"I'm unsure of why this has received a high IMDb rating. It's rubbish and slow and nonsensical. Instead this film rakes in all past cast members for some obscure reminiscent feelgood film. Trash at its Hollywood best. You've been warned.\", \"Don't watch the trailers. Just watch the movie. I'm not going to say much. It's amazing. And I'm in complete disbelief that it actually happened. Well-made, well-acted, well-directed. Fun, funny and crazy with a ton of heart. Can't wait to watch it again.\", \"Best Movie Of The Year\", \"They did it! A Spider-Man trilogy finally stuck the landing! Spider-Man: No Way Home is an impressive culmination of the films that came before it, with an engaging storyline, exciting action, laugh out loud moments, and dramatic consequences. The beginning climb is a little slow, but it's an exhilarating ride once things get swinging. I don't exactly know how this movie will hold up after multiple viewings, as there are some plot points that don't quite make sense when you start to think about them, but I thoroughly enjoyed myself this first time.\", \"I'm unsure of why this has received a high IMDb rating. It's rubbish and slow and nonsensical. Instead this film rakes in all past cast members for some obscure reminiscent feelgood film. Trash at its Hollywood best. You've been warned.\", \"This film is an emotional rollercoaster with some of the coolest superhero plot lines ever drawn up. It's straight up the most epic Marvel film that will probably ever be created. I don't see how Marvel could ever top this, but getting to see these characters all together at least one last time was a reward all on its own.\", \"Thee same movie over and over, that´s the MCU. The same repetitive jokes and villain, only with a different cape ... The story is boring and tries a lot to be something it is not!!!!\", \"Oh dear. I can't believe how diisapointed I am. So dissapointed. I wanted to cry.\", \"Detective Batman at its peak! Great storyline. Just as dark a universe as we've come to expect from DC. The gloomy, gritty, dark tone of this film is exactly what I wanted. When you think the movie is over, there's more. Beautiful cinematography. Great score.\", \"Everything I wanted and more\", \"Matt Reeves The Batman is a hell of a movie, it is the darkest live action Batman movie ever made, and the longest one too, The Batman fills with a top notch action sequence that not only exciting, but it's cinematic too, the cinematography was just incredible, Michael Giacchino The Batman theme song has just become one of my favorite movie theme song ever, it's enduringly great, the action is perfect itself without the theme but they making it even more perfect with the theme in the background especially when Batman shows up, it really making me hyped more because of that, Colin Farrell transformation is as amazing as his performance as The Penguin, Paul Dano performance is giving me a Heath Ledger Joker vibes but not trying to be Heath Ledger Joker which is still great, Paul Dano The Riddler is still a terrifying and a very disturbing villain, Zoe Kravits performances as Catwoman was amazing though she is not as wild as Michelle Pfeiffer in Batman Returns but boy did her gesture and look is as wild as Michelle Pfeiffer, and the Catwoman fighting sequence is definitely a win for Zoe and i did still like her a lot in here, and in the end we got The Batman himself, Robert Pattinson, all i can say about him as The Batman is that i hope everybody is starting to know him as the guy who play The Batman which is a really good movie and not the guy who play in the horrible Twilight film anymore because he is indeed an awesome Batman, now he was become my second favorite Batman next to Christian Bale in number one still, the story of The Batman itself is great, and my only problem with the movie is that there is quite a lot of particular scene that for me are just very slow or too slow, it's not boring but i feel like they can make it a little bit faster, if it's only one or two or three scene i probably still can forgive it but unfortunately it happens more than that, but at in the end The Batman is still a hell of a great movie, it's still amazing and it's still incredible, i was impress by most of the thing that happens, i was excited, i was hyped, i was stunt by all the amazing thing that they've done, The Batman is fire!!!.\"]\n",
    "test_data_labels = [1, 1, 1, 0, 0, 0, 0, 0, 0, 0, 1, 1, 1, 0, 1, 0, 0, 1, 1, 1]\n",
    "\n",
    "test_pred=model.predict(vectorizer.transform(test_data).toarray())\n",
    "print(accuracy_score(test_pred,test_data_labels))#accuracy of model 1 0.75\n",
    "test_pred2=model2.predict(vectorizer.transform(test_data).toarray())\n",
    "print(accuracy_score(test_pred2,test_data_labels))#accuracy of model 2 decision tree 0.7\n",
    "\n",
    "conf_mat = confusion_matrix(test_pred,test_data_labels)\n",
    "print(conf_mat)\n",
    "conf_mat2 = confusion_matrix(test_pred2,test_data_labels)\n",
    "print(conf_mat2)#confusion matrix for model 2\n",
    "a =(test_pred == 1) == (test_data_labels== 0)#15 correct = 0.75 # shows cases model classified correctly and incorrectly\n",
    "b =(test_pred2 == 0) == (test_data_labels== 1)# 14 correct = 0.7 shows cases model classified correctly and incorrectly\n",
    "print(a)\n",
    "print(b)\n",
    "\n",
    "#1) Where both outputs are true Cases that both models classified correctly [0, 2, 5, 6, 9, 10, 13, 14, 16, 18]\n",
    "for y in [0, 2, 5, 6, 9, 10, 13, 14, 16, 18]:\n",
    "    print(test_data[y])#prints out cases that both models classified correctly\n",
    "    \n",
    "#2) where both outputs are false, Cases that both models classified incorrectly [12]\n",
    "print(test_data[12])#prints entry 12 in list which was classified incorrectly by both\n",
    "\n",
    "#3) where output 1 is true and output 2 is false Cases that were correctly classified by model1 and incorrectly classified by model2\n",
    "#[3, 4, 7, 8, 15]\n",
    "for y in [3, 4, 7, 8, 15]:\n",
    "    print(test_data[y])#prints these entries\n",
    "\n",
    "#4) where output 1 is false and output 2 is true 4) Cases that were correctly classified by model2 and incorrectly classified by model1\n",
    "#[1, 11, 17, 19]\n",
    "for y in [1, 11, 17, 19]:\n",
    "    print(test_data[y])#prints these entries\n",
    "    \n",
    "#model 2 was a lot more accurate at correctly classifying the positive reviews \n",
    "#while model 1 was much better at correctly classifying all the negative reviews\n",
    "#model 1 assigned most reviews to negative\n",
    "#model 2 assigned most reviews to positive\n",
    "#Similar accuracy but looking at confusin matrix the models work very differently from each other"
   ]
  },
  {
   "cell_type": "code",
   "execution_count": 44,
   "id": "47190e18",
   "metadata": {
    "scrolled": false
   },
   "outputs": [
    {
     "name": "stdout",
     "output_type": "stream",
     "text": [
      "[0. 0. 0. ... 0. 0. 0.]\n",
      "0.002490581467800634\n",
      "amazing\n",
      "and\n",
      "awful\n",
      "bad\n",
      "beautiful\n",
      "best\n",
      "boring\n",
      "both\n",
      "br\n",
      "could\n",
      "crap\n",
      "excellent\n",
      "fails\n",
      "good\n",
      "great\n",
      "him\n",
      "in\n",
      "is\n",
      "it\n",
      "just\n",
      "lame\n",
      "like\n",
      "love\n",
      "minutes\n",
      "movie\n",
      "no\n",
      "not\n",
      "nothing\n",
      "of\n",
      "on\n",
      "pointless\n",
      "poor\n",
      "poorly\n",
      "ridiculous\n",
      "story\n",
      "stupid\n",
      "supposed\n",
      "terrible\n",
      "the\n",
      "they\n",
      "this\n",
      "to\n",
      "very\n",
      "was\n",
      "waste\n",
      "with\n",
      "wonderful\n",
      "worst\n",
      "would\n"
     ]
    }
   ],
   "source": [
    "#Assignment 2 Part 3\n",
    "import numpy as np\n",
    "importances = model2.feature_importances_\n",
    "\n",
    "print(importances)# importance value of each feature\n",
    "a = []\n",
    "for k in importances:\n",
    "    a.append(k)#prints\n",
    "b = sorted(a)\n",
    "#print(b)# sort list need number 50 from the top\n",
    "x = b[len(b) - 50]\n",
    "print(x)# x is the value of the 51th most important feature in this model\n",
    "\n",
    "#for i,v in enumerate(importances):\n",
    "  #  if(v > 0.0025183):\n",
    "  #      print(i)# This gives value and index of the 50 most important features\n",
    "\n",
    "ll = vectorizer.get_feature_names()#list of feature names\n",
    "for i,v in enumerate(importances):#i is the index and v is the value of the feature\n",
    "    if(v > 0.0025183):#this is the 51st most important values\n",
    "        print(ll[i])#prints out the feature names\n",
    "    \n",
    "#I used my own method here to print out the 50 most important features of my decison tree classifier model.\n",
    "#I used .feature_importances to get an array with the importance values of each feature.\n",
    "#I then appended these values to a list 'a' and sorted this list\n",
    "#I set the variable x equal to the importance value of the 51st most important feature\n",
    "#I used .get_feaure_names() method to make a list of the feature names called 'll'\n",
    "#I then used a for loop with the enumerate command to loop through the list of importance values\n",
    "#Only selected those values greater than the 51st biggest value, so only the top 50 importance values\n",
    "#I set i equal to the index of the importance value and v equal to the value itself\n",
    "#I then printed out the feaure names that had an importance value greater than the 51st most important value\n",
    "#This gives me a list of the 50 most important features of my model\n",
    "#There is probably an easier way to do th"
   ]
  },
  {
   "cell_type": "code",
   "execution_count": 45,
   "id": "d9a0983a",
   "metadata": {},
   "outputs": [
    {
     "name": "stdout",
     "output_type": "stream",
     "text": [
      "0.5\n",
      "0.5\n",
      "[[4 4]\n",
      " [1 1]]\n",
      "[[1 1]\n",
      " [4 4]]\n"
     ]
    }
   ],
   "source": [
    "#Assignemnt 2 Part 4 - A Difficult Test Set\n",
    "\n",
    "test_data2 = [\"It's hard to shake the uneasy feeling of this film. It's grim and foggy but at the core is the idea that when trauma is passed from person to person it will consume you. With that in hand, director Parker Finn plays on the idea that most people who suffer through awful events in life will have their past consume them if they don't confront them. Dr. Rose Cotter (Sosie Bacon) is a clinical psychologist who surrounds herself with the mentally broken people of New Jersey (add your own joke here). You can basically connect the dots as to how she became good at her job. One fateful day a girl comes into her office and gruesomely ends her own life. That launches Sosie's journey into her own madness. Slowly seeing things in her life. Or being haunted by voices of her past. Whatever it is knows her greatest pains. And exploits it. The mystery isn't completely satisfying to solve, but the constant moments of jerky jumpscares definitely make you feel on edge.What I particularly like is the uneasy camera work. It isn't afraid to linger long within the frame. Nor add dutch angles. It plays like 70's cinema. The frames make you squirm. Though much of the scares are telegraphed. This isn't a slasher gory flick. It's really a psychological mind bender. As mentioned before, the resolution won't make you happy. But then, it really is watching someone work through their own mental illness. If that is interesting to you, this is the movie for you.\", \"Given its premise that appears purely silly and gimmicky on the surface, I was shocked that I actually got psychologically wrapped up in the allegorical themes and characterization of Smile.\",\"My assumptions for this film was that it would be repetitive with a bunch of cheap jump scares, and a story that would be a whirlwind of boredom. Almost similar to Truth or Dare.While this film was filled with a bunch of jump scares. They were executed in such a way that my anxiety was shooting through the roof. While Barbarian was able to spook me a bit. This film has my heart still racing an hour after the film has ended which is very uncommon for me.\", \"A horrifying look into trauma\", \"Going into this movie based on the trailer I kinda knew what I was getting myself into...but it was so much more than that! The storyline was very well drawn out...the jump scares were terrific. There may have been one too many...but hey...what's a gory horror movie without unexpected, uneccesary jump scares\", \"I wasn't scared during this film at all this is not a horror\", \"I literally laughed through-out this film not scary at all\", \"All the usual suspects are here again. Unsettling music scores with obvious build-up and climax, loud noises and brutal cutaways to keep you on edge, bait-and-switch scenes that play with what is real and what is not\", \"Can't take it seriously. Person next to me, slapped me in the face. Definitely more disturbed by people fucking around in the theatre.\", \"too busy laughing to take it seriously.\"]\n",
    "test_data_labels2 = [1, 1, 1, 1, 1, 0, 0, 0, 0, 0]\n",
    "test_pred2=model.predict(vectorizer.transform(test_data2).toarray())\n",
    "print(accuracy_score(test_pred2,test_data_labels2))\n",
    "test_pred3=model2.predict(vectorizer.transform(test_data2).toarray())\n",
    "print(accuracy_score(test_pred3,test_data_labels2))\n",
    "\n",
    "conf_mat = confusion_matrix(test_pred2,test_data_labels2)\n",
    "print(conf_mat)\n",
    "conf_mat2 = confusion_matrix(test_pred3,test_data_labels2)\n",
    "print(conf_mat2)#confusion matrix for model 2\n",
    "\n",
    "#For the data in this test set I used user reviews from IMBD, metacritic and online forums on the new horror movie Smile.\n",
    "#Since this is a horror film designed to be unnerving and sometimes hard to watch,\n",
    "#I figured some of these postitve reviews would include words like uneasy, grim, foggy and hard to watch but meant in a positive way instead of the usual negative connotations these words have.\n",
    "#I also included reviews that were positive about the movie giving people anxiety and being hard to watch which wouldn't usual be associated with positive emotions.\n",
    "#But since this is a horror movie that is intended to make people anxious and be hard to watch at times this words are actually giving the movie props.\n",
    "#For the negative reviews I used edgy/casual user reviews from metacritic which contained sarcasm and slang which is very difficult from the models to pick up on.\n",
    "#I also picked reviews that commented on the movie being funny/laughable which in this context being a horror film review is a bad thing.\n",
    "#Both models has exactly 50% accuracy which is not good as it is basically the same is just randomly guessing.\n",
    "#Both models preform equally well but looking at the confusion matrixes actually classify very differently"
   ]
  }
 ],
 "metadata": {
  "kernelspec": {
   "display_name": "Python 3 (ipykernel)",
   "language": "python",
   "name": "python3"
  },
  "language_info": {
   "codemirror_mode": {
    "name": "ipython",
    "version": 3
   },
   "file_extension": ".py",
   "mimetype": "text/x-python",
   "name": "python",
   "nbconvert_exporter": "python",
   "pygments_lexer": "ipython3",
   "version": "3.10.8"
  }
 },
 "nbformat": 4,
 "nbformat_minor": 5
}
