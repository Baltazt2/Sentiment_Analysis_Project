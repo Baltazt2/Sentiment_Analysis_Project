{
 "cells": [
  {
   "cell_type": "code",
   "execution_count": 3,
   "id": "67365fa3",
   "metadata": {},
   "outputs": [
    {
     "name": "stdout",
     "output_type": "stream",
     "text": [
      "Requirement already satisfied: sklearn in c:\\users\\thoma\\appdata\\local\\packages\\pythonsoftwarefoundation.python.3.10_qbz5n2kfra8p0\\localcache\\local-packages\\python310\\site-packages (0.0)\n",
      "Requirement already satisfied: scikit-learn in c:\\users\\thoma\\appdata\\local\\packages\\pythonsoftwarefoundation.python.3.10_qbz5n2kfra8p0\\localcache\\local-packages\\python310\\site-packages (from sklearn) (1.1.2)\n",
      "Requirement already satisfied: threadpoolctl>=2.0.0 in c:\\users\\thoma\\appdata\\local\\packages\\pythonsoftwarefoundation.python.3.10_qbz5n2kfra8p0\\localcache\\local-packages\\python310\\site-packages (from scikit-learn->sklearn) (3.1.0)\n",
      "Requirement already satisfied: joblib>=1.0.0 in c:\\users\\thoma\\appdata\\local\\packages\\pythonsoftwarefoundation.python.3.10_qbz5n2kfra8p0\\localcache\\local-packages\\python310\\site-packages (from scikit-learn->sklearn) (1.2.0)\n",
      "Requirement already satisfied: numpy>=1.17.3 in c:\\users\\thoma\\appdata\\local\\packages\\pythonsoftwarefoundation.python.3.10_qbz5n2kfra8p0\\localcache\\local-packages\\python310\\site-packages (from scikit-learn->sklearn) (1.23.3)\n",
      "Requirement already satisfied: scipy>=1.3.2 in c:\\users\\thoma\\appdata\\local\\packages\\pythonsoftwarefoundation.python.3.10_qbz5n2kfra8p0\\localcache\\local-packages\\python310\\site-packages (from scikit-learn->sklearn) (1.9.1)\n",
      "Note: you may need to restart the kernel to use updated packages.\n"
     ]
    }
   ],
   "source": [
    " pip install sklearn"
   ]
  },
  {
   "cell_type": "code",
   "execution_count": 4,
   "id": "b75e43db",
   "metadata": {},
   "outputs": [
    {
     "name": "stdout",
     "output_type": "stream",
     "text": [
      "Requirement already satisfied: datasets in c:\\users\\thoma\\appdata\\local\\packages\\pythonsoftwarefoundation.python.3.10_qbz5n2kfra8p0\\localcache\\local-packages\\python310\\site-packages (2.5.1)\n",
      "Requirement already satisfied: packaging in c:\\users\\thoma\\appdata\\local\\packages\\pythonsoftwarefoundation.python.3.10_qbz5n2kfra8p0\\localcache\\local-packages\\python310\\site-packages (from datasets) (21.3)\n",
      "Requirement already satisfied: aiohttp in c:\\users\\thoma\\appdata\\local\\packages\\pythonsoftwarefoundation.python.3.10_qbz5n2kfra8p0\\localcache\\local-packages\\python310\\site-packages (from datasets) (3.8.3)\n",
      "Requirement already satisfied: huggingface-hub<1.0.0,>=0.1.0 in c:\\users\\thoma\\appdata\\local\\packages\\pythonsoftwarefoundation.python.3.10_qbz5n2kfra8p0\\localcache\\local-packages\\python310\\site-packages (from datasets) (0.9.1)\n",
      "Requirement already satisfied: requests>=2.19.0 in c:\\users\\thoma\\appdata\\local\\packages\\pythonsoftwarefoundation.python.3.10_qbz5n2kfra8p0\\localcache\\local-packages\\python310\\site-packages (from datasets) (2.28.1)\n",
      "Requirement already satisfied: pandas in c:\\users\\thoma\\appdata\\local\\packages\\pythonsoftwarefoundation.python.3.10_qbz5n2kfra8p0\\localcache\\local-packages\\python310\\site-packages (from datasets) (1.5.0)\n",
      "Requirement already satisfied: fsspec[http]>=2021.11.1 in c:\\users\\thoma\\appdata\\local\\packages\\pythonsoftwarefoundation.python.3.10_qbz5n2kfra8p0\\localcache\\local-packages\\python310\\site-packages (from datasets) (2022.8.2)\n",
      "Requirement already satisfied: numpy>=1.17 in c:\\users\\thoma\\appdata\\local\\packages\\pythonsoftwarefoundation.python.3.10_qbz5n2kfra8p0\\localcache\\local-packages\\python310\\site-packages (from datasets) (1.23.3)\n",
      "Requirement already satisfied: multiprocess in c:\\users\\thoma\\appdata\\local\\packages\\pythonsoftwarefoundation.python.3.10_qbz5n2kfra8p0\\localcache\\local-packages\\python310\\site-packages (from datasets) (0.70.13)\n",
      "Requirement already satisfied: tqdm>=4.62.1 in c:\\users\\thoma\\appdata\\local\\packages\\pythonsoftwarefoundation.python.3.10_qbz5n2kfra8p0\\localcache\\local-packages\\python310\\site-packages (from datasets) (4.64.1)\n",
      "Requirement already satisfied: responses<0.19 in c:\\users\\thoma\\appdata\\local\\packages\\pythonsoftwarefoundation.python.3.10_qbz5n2kfra8p0\\localcache\\local-packages\\python310\\site-packages (from datasets) (0.18.0)\n",
      "Requirement already satisfied: xxhash in c:\\users\\thoma\\appdata\\local\\packages\\pythonsoftwarefoundation.python.3.10_qbz5n2kfra8p0\\localcache\\local-packages\\python310\\site-packages (from datasets) (3.0.0)\n",
      "Requirement already satisfied: dill<0.3.6 in c:\\users\\thoma\\appdata\\local\\packages\\pythonsoftwarefoundation.python.3.10_qbz5n2kfra8p0\\localcache\\local-packages\\python310\\site-packages (from datasets) (0.3.5.1)\n",
      "Requirement already satisfied: pyarrow>=6.0.0 in c:\\users\\thoma\\appdata\\local\\packages\\pythonsoftwarefoundation.python.3.10_qbz5n2kfra8p0\\localcache\\local-packages\\python310\\site-packages (from datasets) (9.0.0)\n",
      "Requirement already satisfied: charset-normalizer<3.0,>=2.0 in c:\\users\\thoma\\appdata\\local\\packages\\pythonsoftwarefoundation.python.3.10_qbz5n2kfra8p0\\localcache\\local-packages\\python310\\site-packages (from aiohttp->datasets) (2.1.1)\n",
      "Requirement already satisfied: attrs>=17.3.0 in c:\\users\\thoma\\appdata\\local\\packages\\pythonsoftwarefoundation.python.3.10_qbz5n2kfra8p0\\localcache\\local-packages\\python310\\site-packages (from aiohttp->datasets) (22.1.0)\n",
      "Requirement already satisfied: multidict<7.0,>=4.5 in c:\\users\\thoma\\appdata\\local\\packages\\pythonsoftwarefoundation.python.3.10_qbz5n2kfra8p0\\localcache\\local-packages\\python310\\site-packages (from aiohttp->datasets) (6.0.2)\n",
      "Requirement already satisfied: aiosignal>=1.1.2 in c:\\users\\thoma\\appdata\\local\\packages\\pythonsoftwarefoundation.python.3.10_qbz5n2kfra8p0\\localcache\\local-packages\\python310\\site-packages (from aiohttp->datasets) (1.2.0)\n",
      "Requirement already satisfied: yarl<2.0,>=1.0 in c:\\users\\thoma\\appdata\\local\\packages\\pythonsoftwarefoundation.python.3.10_qbz5n2kfra8p0\\localcache\\local-packages\\python310\\site-packages (from aiohttp->datasets) (1.8.1)\n",
      "Requirement already satisfied: frozenlist>=1.1.1 in c:\\users\\thoma\\appdata\\local\\packages\\pythonsoftwarefoundation.python.3.10_qbz5n2kfra8p0\\localcache\\local-packages\\python310\\site-packages (from aiohttp->datasets) (1.3.1)\n",
      "Requirement already satisfied: async-timeout<5.0,>=4.0.0a3 in c:\\users\\thoma\\appdata\\local\\packages\\pythonsoftwarefoundation.python.3.10_qbz5n2kfra8p0\\localcache\\local-packages\\python310\\site-packages (from aiohttp->datasets) (4.0.2)\n",
      "Requirement already satisfied: typing-extensions>=3.7.4.3 in c:\\users\\thoma\\appdata\\local\\packages\\pythonsoftwarefoundation.python.3.10_qbz5n2kfra8p0\\localcache\\local-packages\\python310\\site-packages (from huggingface-hub<1.0.0,>=0.1.0->datasets) (4.3.0)\n",
      "Requirement already satisfied: filelock in c:\\users\\thoma\\appdata\\local\\packages\\pythonsoftwarefoundation.python.3.10_qbz5n2kfra8p0\\localcache\\local-packages\\python310\\site-packages (from huggingface-hub<1.0.0,>=0.1.0->datasets) (3.8.0)\n",
      "Requirement already satisfied: pyyaml>=5.1 in c:\\users\\thoma\\appdata\\local\\packages\\pythonsoftwarefoundation.python.3.10_qbz5n2kfra8p0\\localcache\\local-packages\\python310\\site-packages (from huggingface-hub<1.0.0,>=0.1.0->datasets) (6.0)\n",
      "Requirement already satisfied: pyparsing!=3.0.5,>=2.0.2 in c:\\users\\thoma\\appdata\\local\\packages\\pythonsoftwarefoundation.python.3.10_qbz5n2kfra8p0\\localcache\\local-packages\\python310\\site-packages (from packaging->datasets) (3.0.9)\n",
      "Requirement already satisfied: idna<4,>=2.5 in c:\\users\\thoma\\appdata\\local\\packages\\pythonsoftwarefoundation.python.3.10_qbz5n2kfra8p0\\localcache\\local-packages\\python310\\site-packages (from requests>=2.19.0->datasets) (3.4)\n",
      "Requirement already satisfied: certifi>=2017.4.17 in c:\\users\\thoma\\appdata\\local\\packages\\pythonsoftwarefoundation.python.3.10_qbz5n2kfra8p0\\localcache\\local-packages\\python310\\site-packages (from requests>=2.19.0->datasets) (2022.9.24)\n",
      "Requirement already satisfied: urllib3<1.27,>=1.21.1 in c:\\users\\thoma\\appdata\\local\\packages\\pythonsoftwarefoundation.python.3.10_qbz5n2kfra8p0\\localcache\\local-packages\\python310\\site-packages (from requests>=2.19.0->datasets) (1.26.12)\n",
      "Requirement already satisfied: colorama in c:\\users\\thoma\\appdata\\local\\packages\\pythonsoftwarefoundation.python.3.10_qbz5n2kfra8p0\\localcache\\local-packages\\python310\\site-packages (from tqdm>=4.62.1->datasets) (0.4.5)\n",
      "Requirement already satisfied: python-dateutil>=2.8.1 in c:\\users\\thoma\\appdata\\local\\packages\\pythonsoftwarefoundation.python.3.10_qbz5n2kfra8p0\\localcache\\local-packages\\python310\\site-packages (from pandas->datasets) (2.8.2)\n",
      "Requirement already satisfied: pytz>=2020.1 in c:\\users\\thoma\\appdata\\local\\packages\\pythonsoftwarefoundation.python.3.10_qbz5n2kfra8p0\\localcache\\local-packages\\python310\\site-packages (from pandas->datasets) (2022.2.1)\n",
      "Requirement already satisfied: six>=1.5 in c:\\users\\thoma\\appdata\\local\\packages\\pythonsoftwarefoundation.python.3.10_qbz5n2kfra8p0\\localcache\\local-packages\\python310\\site-packages (from python-dateutil>=2.8.1->pandas->datasets) (1.16.0)\n",
      "Note: you may need to restart the kernel to use updated packages.\n"
     ]
    }
   ],
   "source": [
    "pip install datasets"
   ]
  },
  {
   "cell_type": "code",
   "execution_count": 5,
   "id": "e1e27a04",
   "metadata": {
    "scrolled": true
   },
   "outputs": [
    {
     "name": "stderr",
     "output_type": "stream",
     "text": [
      "Found cached dataset imdb (C:/Users/thoma/.cache/huggingface/datasets/imdb/plain_text/1.0.0/2fdd8b9bcadd6e7055e742a706876ba43f19faee861df134affd7a3f60fc38a1)\n"
     ]
    },
    {
     "data": {
      "application/vnd.jupyter.widget-view+json": {
       "model_id": "28981a4f1ed44987a314958489c3aaba",
       "version_major": 2,
       "version_minor": 0
      },
      "text/plain": [
       "  0%|          | 0/3 [00:00<?, ?it/s]"
      ]
     },
     "metadata": {},
     "output_type": "display_data"
    },
    {
     "name": "stdout",
     "output_type": "stream",
     "text": [
      "{'text': 'The story centers around Barry McKenzie who must go to England if he wishes to claim his inheritance. Being about the grossest Aussie shearer ever to set foot outside this great Nation of ours there is something of a culture clash and much fun and games ensue. The songs of Barry McKenzie(Barry Crocker) are highlights.', 'label': 1}\n"
     ]
    }
   ],
   "source": [
    "from datasets import load_dataset\n",
    "\n",
    "imdb_dataset = load_dataset(\"imdb\")['train']\n",
    "print(imdb_dataset[-1])"
   ]
  },
  {
   "cell_type": "code",
   "execution_count": 6,
   "id": "117675b3",
   "metadata": {},
   "outputs": [
    {
     "name": "stdout",
     "output_type": "stream",
     "text": [
      "The story centers around Barry McKenzie who must go to England if he wishes to claim his inheritance. Being about the grossest Aussie shearer ever to set foot outside this great Nation of ours there is something of a culture clash and much fun and games ensue. The songs of Barry McKenzie(Barry Crocker) are highlights.\n",
      "1\n"
     ]
    }
   ],
   "source": [
    "train_data = []\n",
    "train_data_labels = []\n",
    "for item in imdb_dataset:\n",
    "  train_data.append(item['text'])\n",
    "  train_data_labels.append(item['label'])\n",
    "print(train_data[-1])\n",
    "print(train_data_labels[-1])"
   ]
  },
  {
   "cell_type": "code",
   "execution_count": 7,
   "id": "ee1c507c",
   "metadata": {},
   "outputs": [],
   "source": [
    "from sklearn.feature_extraction.text import CountVectorizer\n",
    "vectorizer = CountVectorizer(analyzer='word',max_features=5000,lowercase=True)\n",
    "features = vectorizer.fit_transform(train_data).toarray()"
   ]
  },
  {
   "cell_type": "code",
   "execution_count": 44,
   "id": "3b73aa3a",
   "metadata": {},
   "outputs": [
    {
     "name": "stdout",
     "output_type": "stream",
     "text": [
      "(25000, 5000)\n",
      "['00' '000' '10' ... 'zombie' 'zombies' 'zone']\n"
     ]
    }
   ],
   "source": [
    "print(features.shape)\n",
    "print(vectorizer.get_feature_names_out())"
   ]
  },
  {
   "cell_type": "code",
   "execution_count": 8,
   "id": "04916931",
   "metadata": {},
   "outputs": [],
   "source": [
    "from sklearn.model_selection import train_test_split\n",
    "X_train, X_val, y_train, y_val = train_test_split(features,train_data_labels,train_size=0.75,random_state=100)"
   ]
  },
  {
   "cell_type": "code",
   "execution_count": 9,
   "id": "0e85bfd4",
   "metadata": {},
   "outputs": [],
   "source": [
    " from sklearn.naive_bayes import MultinomialNB\n",
    "model = MultinomialNB(alpha = 0.5, class_prior=[0.60,0.40])"
   ]
  },
  {
   "cell_type": "code",
   "execution_count": 10,
   "id": "5a9eb92d",
   "metadata": {},
   "outputs": [],
   "source": [
    "model = model.fit(X=X_train,y=y_train)"
   ]
  },
  {
   "cell_type": "code",
   "execution_count": 11,
   "id": "838fc139",
   "metadata": {},
   "outputs": [],
   "source": [
    "y_pred = model.predict(X_val)"
   ]
  },
  {
   "cell_type": "code",
   "execution_count": 12,
   "id": "8d58fb7b",
   "metadata": {},
   "outputs": [
    {
     "name": "stdout",
     "output_type": "stream",
     "text": [
      "0.8384\n"
     ]
    }
   ],
   "source": [
    "from sklearn.metrics import accuracy_score\n",
    "print(accuracy_score(y_val,y_pred))"
   ]
  },
  {
   "cell_type": "code",
   "execution_count": 20,
   "id": "1f2d8ec2",
   "metadata": {},
   "outputs": [
    {
     "name": "stdout",
     "output_type": "stream",
     "text": [
      "0.75\n"
     ]
    }
   ],
   "source": [
    "#Part 4\n",
    "test_data = ['The truly epic blockbuster we needed.', 'If theres any movie that deserves to be seen in the theaters with big screens and booming speakers. Its :Top Gun Maverick.One of my best experiences in years!','Best Sequel yet', \"Not bad, but wayy overrated.\", \"Terrible plot and script, boring and pointless\", \"Didnt make much sense\", \"Very uninteresting\", \"What A Mess! I Want My 2 Hours Back!\", \"I could have actually cried watching this. Dr. Strange is one of my favourite Marvel movies but this was just plain awful. 1 hour in and I was debating leaving. Marvel are losing their touch, and ever since Endgame, it just hasn't felt the same, apart from NWH. Sam Raimi messed up big time.\", \"I'm unsure of why this has received a high IMDb rating. It's rubbish and slow and nonsensical. Instead this film rakes in all past cast members for some obscure reminiscent feelgood film. Trash at its Hollywood best. You've been warned.\", \"Don't watch the trailers. Just watch the movie. I'm not going to say much. It's amazing. And I'm in complete disbelief that it actually happened. Well-made, well-acted, well-directed. Fun, funny and crazy with a ton of heart. Can't wait to watch it again.\", \"Best Movie Of The Year\", \"They did it! A Spider-Man trilogy finally stuck the landing! Spider-Man: No Way Home is an impressive culmination of the films that came before it, with an engaging storyline, exciting action, laugh out loud moments, and dramatic consequences. The beginning climb is a little slow, but it's an exhilarating ride once things get swinging. I don't exactly know how this movie will hold up after multiple viewings, as there are some plot points that don't quite make sense when you start to think about them, but I thoroughly enjoyed myself this first time.\", \"I'm unsure of why this has received a high IMDb rating. It's rubbish and slow and nonsensical. Instead this film rakes in all past cast members for some obscure reminiscent feelgood film. Trash at its Hollywood best. You've been warned.\", \"This film is an emotional rollercoaster with some of the coolest superhero plot lines ever drawn up. It's straight up the most epic Marvel film that will probably ever be created. I don't see how Marvel could ever top this, but getting to see these characters all together at least one last time was a reward all on its own.\", \"Thee same movie over and over, that´s the MCU. The same repetitive jokes and villain, only with a different cape ... The story is boring and tries a lot to be something it is not!!!!\", \"Oh dear. I can't believe how diisapointed I am. So dissapointed. I wanted to cry.\", \"Detective Batman at its peak! Great storyline. Just as dark a universe as we've come to expect from DC. The gloomy, gritty, dark tone of this film is exactly what I wanted. When you think the movie is over, there's more. Beautiful cinematography. Great score.\", \"Everything I wanted and more\", \"Matt Reeves The Batman is a hell of a movie, it is the darkest live action Batman movie ever made, and the longest one too, The Batman fills with a top notch action sequence that not only exciting, but it's cinematic too, the cinematography was just incredible, Michael Giacchino The Batman theme song has just become one of my favorite movie theme song ever, it's enduringly great, the action is perfect itself without the theme but they making it even more perfect with the theme in the background especially when Batman shows up, it really making me hyped more because of that, Colin Farrell transformation is as amazing as his performance as The Penguin, Paul Dano performance is giving me a Heath Ledger Joker vibes but not trying to be Heath Ledger Joker which is still great, Paul Dano The Riddler is still a terrifying and a very disturbing villain, Zoe Kravits performances as Catwoman was amazing though she is not as wild as Michelle Pfeiffer in Batman Returns but boy did her gesture and look is as wild as Michelle Pfeiffer, and the Catwoman fighting sequence is definitely a win for Zoe and i did still like her a lot in here, and in the end we got The Batman himself, Robert Pattinson, all i can say about him as The Batman is that i hope everybody is starting to know him as the guy who play The Batman which is a really good movie and not the guy who play in the horrible Twilight film anymore because he is indeed an awesome Batman, now he was become my second favorite Batman next to Christian Bale in number one still, the story of The Batman itself is great, and my only problem with the movie is that there is quite a lot of particular scene that for me are just very slow or too slow, it's not boring but i feel like they can make it a little bit faster, if it's only one or two or three scene i probably still can forgive it but unfortunately it happens more than that, but at in the end The Batman is still a hell of a great movie, it's still amazing and it's still incredible, i was impress by most of the thing that happens, i was excited, i was hyped, i was stunt by all the amazing thing that they've done, The Batman is fire!!!.\"]\n",
    "test_data_labels = [1, 1, 1, 0, 0, 0, 0, 0, 0, 0, 1, 1, 1, 0, 1, 0, 0, 1, 1, 1]\n",
    "\n",
    "test_pred=model.predict(vectorizer.transform(test_data).toarray())\n",
    "print(accuracy_score(test_pred,test_data_labels))\n",
    "#The test data above came from reviews of different movies randomly selected from the imbd website the copy and pasted into the above list.\n",
    "#I then assigned a corresponding 1 or 0 based on if the selected review was negative or positive."
   ]
  },
  {
   "cell_type": "code",
   "execution_count": null,
   "id": "f85891ff",
   "metadata": {},
   "outputs": [],
   "source": [
    "#Part 3\n",
    "#accuracy increased from 0.70368 to 0.8384.\n",
    "#The maxium number of features in the countvectorizer command was increased to 5000 this was done as the more words\n",
    "# that are analised the more inforation we have to work with making the model more accurate.\n",
    "#Also I changed some of the parameters in the MultinomialNH function. I tred changing the value of the laplace and noticed when I decreased it to 0.5 that was the sweet spot for th most accuracy\n",
    "#Also I tried adding prior probailities in the MultinomialNB function where I assumed the probability of a review being positive or negative was not equal. Changing this to 0.6 and 0.4 also increased the accuracy."
   ]
  }
 ],
 "metadata": {
  "kernelspec": {
   "display_name": "Python 3 (ipykernel)",
   "language": "python",
   "name": "python3"
  },
  "language_info": {
   "codemirror_mode": {
    "name": "ipython",
    "version": 3
   },
   "file_extension": ".py",
   "mimetype": "text/x-python",
   "name": "python",
   "nbconvert_exporter": "python",
   "pygments_lexer": "ipython3",
   "version": "3.10.7"
  }
 },
 "nbformat": 4,
 "nbformat_minor": 5
}
